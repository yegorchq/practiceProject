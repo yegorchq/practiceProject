{
 "cells": [
  {
   "cell_type": "code",
   "execution_count": 1,
   "id": "c7c7e510",
   "metadata": {},
   "outputs": [],
   "source": [
    "import numpy as np\n",
    "from matplotlib import pyplot as plt\n",
    "from scipy import linalg"
   ]
  },
  {
   "cell_type": "code",
   "execution_count": 2,
   "id": "c07d6261",
   "metadata": {},
   "outputs": [],
   "source": [
    "m = 26\n",
    "beta = 572\n",
    "eps = 10**(-12)\n",
    "\n",
    "#метод минимальных невязок\n",
    "def minResMeth(A, b, eps):\n",
    "    it = 0\n",
    "    x = np.zeros(m)\n",
    "    y = np.zeros(m)\n",
    "    y = A@x - b\n",
    "    while (linalg.norm(A@x - b, ord = 2)/linalg.norm(b, ord = 2)) >= eps:\n",
    "        t = np.sum((A@y)*y)/np.sum((A@y)*(A@y))\n",
    "        x -= (t*y)\n",
    "        y = A@x - b\n",
    "        it += 1\n",
    "    return x, it"
   ]
  },
  {
   "cell_type": "code",
   "execution_count": 3,
   "id": "be404ae6",
   "metadata": {},
   "outputs": [
    {
     "name": "stdout",
     "output_type": "stream",
     "text": [
      "x =  [49. 49. 49. 49. 49. 49. 49. 49. 49. 49. 49. 49. 49. 49. 49. 49. 49. 49.\n",
      " 49. 49. 49. 49. 49. 49. 49. 49.]\n",
      "\n",
      "it = 59\n"
     ]
    }
   ],
   "source": [
    "A = np.array([[np.math.cos(i + j)/(0.1*beta) + 0.1*beta*np.math.exp(-(i-j)**2) for j in range (m)] for i in range (m)])\n",
    "xh = np.array([49]*26)\n",
    "b = A@xh\n",
    "x, it = minResMeth(A, b, eps)\n",
    "\n",
    "print('x = ', x)\n",
    "print('')\n",
    "print('it =', it)"
   ]
  },
  {
   "cell_type": "code",
   "execution_count": null,
   "id": "03b9e133",
   "metadata": {},
   "outputs": [],
   "source": []
  }
 ],
 "metadata": {
  "kernelspec": {
   "display_name": "Python 3 (ipykernel)",
   "language": "python",
   "name": "python3"
  },
  "language_info": {
   "codemirror_mode": {
    "name": "ipython",
    "version": 3
   },
   "file_extension": ".py",
   "mimetype": "text/x-python",
   "name": "python",
   "nbconvert_exporter": "python",
   "pygments_lexer": "ipython3",
   "version": "3.9.13"
  }
 },
 "nbformat": 4,
 "nbformat_minor": 5
}
